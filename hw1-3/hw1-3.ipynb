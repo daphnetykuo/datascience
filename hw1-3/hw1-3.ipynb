{
 "cells": [
  {
   "cell_type": "markdown",
   "metadata": {},
   "source": [
    "# 題目：野村證券客戶資料分析"
   ]
  },
  {
   "cell_type": "code",
   "execution_count": 1,
   "metadata": {},
   "outputs": [],
   "source": [
    "import numpy as np\n",
    "import pandas as pd\n",
    "import matplotlib.pyplot as plt\n",
    "import datetime\n",
    "%matplotlib inline"
   ]
  },
  {
   "cell_type": "markdown",
   "metadata": {},
   "source": [
    "## ❖ Onshore客戶分析"
   ]
  },
  {
   "cell_type": "code",
   "execution_count": 2,
   "metadata": {
    "scrolled": false
   },
   "outputs": [
    {
     "data": {
      "text/html": [
       "<div>\n",
       "<style scoped>\n",
       "    .dataframe tbody tr th:only-of-type {\n",
       "        vertical-align: middle;\n",
       "    }\n",
       "\n",
       "    .dataframe tbody tr th {\n",
       "        vertical-align: top;\n",
       "    }\n",
       "\n",
       "    .dataframe thead th {\n",
       "        text-align: right;\n",
       "    }\n",
       "</style>\n",
       "<table border=\"1\" class=\"dataframe\">\n",
       "  <thead>\n",
       "    <tr style=\"text-align: right;\">\n",
       "      <th></th>\n",
       "      <th>accountdate</th>\n",
       "      <th>accountnumber</th>\n",
       "      <th>accountid</th>\n",
       "      <th>accountname</th>\n",
       "      <th>identifycode</th>\n",
       "      <th>birthdate</th>\n",
       "      <th>gendercode</th>\n",
       "      <th>beneficiariescountry</th>\n",
       "      <th>beneficiariestype</th>\n",
       "      <th>telephone1</th>\n",
       "      <th>...</th>\n",
       "      <th>agentcode</th>\n",
       "      <th>agentname</th>\n",
       "      <th>institutioncode</th>\n",
       "      <th>institutionname</th>\n",
       "      <th>salescode</th>\n",
       "      <th>salesname</th>\n",
       "      <th>lifeinsurancefundslicense</th>\n",
       "      <th>ownerid</th>\n",
       "      <th>updatedate</th>\n",
       "      <th>DMID</th>\n",
       "    </tr>\n",
       "  </thead>\n",
       "  <tbody>\n",
       "    <tr>\n",
       "      <th>0</th>\n",
       "      <td>2017-09-11</td>\n",
       "      <td>318281</td>\n",
       "      <td>1219218</td>\n",
       "      <td>林ＯＯ</td>\n",
       "      <td>P122******</td>\n",
       "      <td>1976-09-11</td>\n",
       "      <td>M</td>\n",
       "      <td>臺灣</td>\n",
       "      <td>個人(自然人)</td>\n",
       "      <td>02XX853273</td>\n",
       "      <td>...</td>\n",
       "      <td>A0769</td>\n",
       "      <td>張Ｏ臻</td>\n",
       "      <td>D9000</td>\n",
       "      <td>多元理財部</td>\n",
       "      <td>A0769</td>\n",
       "      <td>張Ｏ臻</td>\n",
       "      <td>NaN</td>\n",
       "      <td>NaN</td>\n",
       "      <td>2017-09-12 10:40:09.837</td>\n",
       "      <td>FAB6BB5E-C5E0-4ED8-DC29-A98DB966CF82</td>\n",
       "    </tr>\n",
       "    <tr>\n",
       "      <th>1</th>\n",
       "      <td>2017-09-08</td>\n",
       "      <td>318270</td>\n",
       "      <td>1219207</td>\n",
       "      <td>劉ＯＯ</td>\n",
       "      <td>H124******</td>\n",
       "      <td>1997-06-13</td>\n",
       "      <td>M</td>\n",
       "      <td>臺灣</td>\n",
       "      <td>個人(自然人)</td>\n",
       "      <td>NaN</td>\n",
       "      <td>...</td>\n",
       "      <td>A0431</td>\n",
       "      <td>陳Ｏ璇</td>\n",
       "      <td>D9000</td>\n",
       "      <td>多元理財部</td>\n",
       "      <td>A0431</td>\n",
       "      <td>陳Ｏ璇</td>\n",
       "      <td>NaN</td>\n",
       "      <td>NaN</td>\n",
       "      <td>2017-09-11 10:37:39.347</td>\n",
       "      <td>F8F2BB01-CAAF-3B5D-81C6-D0E2D86DC686</td>\n",
       "    </tr>\n",
       "    <tr>\n",
       "      <th>2</th>\n",
       "      <td>2017-09-08</td>\n",
       "      <td>318271</td>\n",
       "      <td>1219208</td>\n",
       "      <td>陳ＯＯ</td>\n",
       "      <td>E224******</td>\n",
       "      <td>1996-10-28</td>\n",
       "      <td>F</td>\n",
       "      <td>臺灣</td>\n",
       "      <td>個人(自然人)</td>\n",
       "      <td>07XX83385</td>\n",
       "      <td>...</td>\n",
       "      <td>A0776</td>\n",
       "      <td>李Ｏ雯</td>\n",
       "      <td>D4130</td>\n",
       "      <td>高雄分公司</td>\n",
       "      <td>A0776</td>\n",
       "      <td>李Ｏ雯</td>\n",
       "      <td>NaN</td>\n",
       "      <td>NaN</td>\n",
       "      <td>2017-09-11 10:40:29.807</td>\n",
       "      <td>9038A160-3957-38F4-A423-D115D3AA4244</td>\n",
       "    </tr>\n",
       "    <tr>\n",
       "      <th>3</th>\n",
       "      <td>2017-09-08</td>\n",
       "      <td>318272</td>\n",
       "      <td>1219209</td>\n",
       "      <td>林ＯＯ</td>\n",
       "      <td>A223******</td>\n",
       "      <td>1975-10-08</td>\n",
       "      <td>F</td>\n",
       "      <td>臺灣</td>\n",
       "      <td>個人(自然人)</td>\n",
       "      <td>NaN</td>\n",
       "      <td>...</td>\n",
       "      <td>A0278</td>\n",
       "      <td>黃Ｏ智</td>\n",
       "      <td>D4200</td>\n",
       "      <td>法人行銷台北一組</td>\n",
       "      <td>A0278</td>\n",
       "      <td>黃Ｏ智</td>\n",
       "      <td>NaN</td>\n",
       "      <td>NaN</td>\n",
       "      <td>2017-09-11 11:02:10.717</td>\n",
       "      <td>AE0436F1-1B6B-320E-E6F1-AF49929C8577</td>\n",
       "    </tr>\n",
       "    <tr>\n",
       "      <th>4</th>\n",
       "      <td>2017-09-08</td>\n",
       "      <td>318273</td>\n",
       "      <td>1219210</td>\n",
       "      <td>蔡ＯＯ</td>\n",
       "      <td>A227******</td>\n",
       "      <td>1986-03-27</td>\n",
       "      <td>F</td>\n",
       "      <td>臺灣</td>\n",
       "      <td>個人(自然人)</td>\n",
       "      <td>NaN</td>\n",
       "      <td>...</td>\n",
       "      <td>A0769</td>\n",
       "      <td>張Ｏ臻</td>\n",
       "      <td>D9000</td>\n",
       "      <td>多元理財部</td>\n",
       "      <td>A0769</td>\n",
       "      <td>張Ｏ臻</td>\n",
       "      <td>NaN</td>\n",
       "      <td>NaN</td>\n",
       "      <td>2017-09-11 10:50:45.380</td>\n",
       "      <td>39EDA40D-C4A2-46FA-28CE-17D774C4A152</td>\n",
       "    </tr>\n",
       "  </tbody>\n",
       "</table>\n",
       "<p>5 rows × 53 columns</p>\n",
       "</div>"
      ],
      "text/plain": [
       "  accountdate  accountnumber  accountid accountname identifycode  birthdate  \\\n",
       "0  2017-09-11         318281    1219218         林ＯＯ   P122****** 1976-09-11   \n",
       "1  2017-09-08         318270    1219207         劉ＯＯ   H124****** 1997-06-13   \n",
       "2  2017-09-08         318271    1219208         陳ＯＯ   E224****** 1996-10-28   \n",
       "3  2017-09-08         318272    1219209         林ＯＯ   A223****** 1975-10-08   \n",
       "4  2017-09-08         318273    1219210         蔡ＯＯ   A227****** 1986-03-27   \n",
       "\n",
       "  gendercode beneficiariescountry beneficiariestype  telephone1  \\\n",
       "0          M                   臺灣           個人(自然人)  02XX853273   \n",
       "1          M                   臺灣           個人(自然人)         NaN   \n",
       "2          F                   臺灣           個人(自然人)   07XX83385   \n",
       "3          F                   臺灣           個人(自然人)         NaN   \n",
       "4          F                   臺灣           個人(自然人)         NaN   \n",
       "\n",
       "                   ...                  agentcode  agentname institutioncode  \\\n",
       "0                  ...                      A0769        張Ｏ臻           D9000   \n",
       "1                  ...                      A0431        陳Ｏ璇           D9000   \n",
       "2                  ...                      A0776        李Ｏ雯           D4130   \n",
       "3                  ...                      A0278        黃Ｏ智           D4200   \n",
       "4                  ...                      A0769        張Ｏ臻           D9000   \n",
       "\n",
       "  institutionname  salescode  salesname lifeinsurancefundslicense  ownerid  \\\n",
       "0           多元理財部      A0769        張Ｏ臻                       NaN      NaN   \n",
       "1           多元理財部      A0431        陳Ｏ璇                       NaN      NaN   \n",
       "2           高雄分公司      A0776        李Ｏ雯                       NaN      NaN   \n",
       "3        法人行銷台北一組      A0278        黃Ｏ智                       NaN      NaN   \n",
       "4           多元理財部      A0769        張Ｏ臻                       NaN      NaN   \n",
       "\n",
       "               updatedate                                  DMID  \n",
       "0 2017-09-12 10:40:09.837  FAB6BB5E-C5E0-4ED8-DC29-A98DB966CF82  \n",
       "1 2017-09-11 10:37:39.347  F8F2BB01-CAAF-3B5D-81C6-D0E2D86DC686  \n",
       "2 2017-09-11 10:40:29.807  9038A160-3957-38F4-A423-D115D3AA4244  \n",
       "3 2017-09-11 11:02:10.717  AE0436F1-1B6B-320E-E6F1-AF49929C8577  \n",
       "4 2017-09-11 10:50:45.380  39EDA40D-C4A2-46FA-28CE-17D774C4A152  \n",
       "\n",
       "[5 rows x 53 columns]"
      ]
     },
     "execution_count": 2,
     "metadata": {},
     "output_type": "execute_result"
    }
   ],
   "source": [
    "onshore_df = pd.read_excel(\"/Users/daphne/Desktop/Onshore_crm.xlsx\")\n",
    "onshore_df.head()"
   ]
  },
  {
   "cell_type": "code",
   "execution_count": 29,
   "metadata": {},
   "outputs": [
    {
     "name": "stdout",
     "output_type": "stream",
     "text": [
      "55\n",
      "39\n",
      "6\n"
     ]
    }
   ],
   "source": [
    "f = 0\n",
    "m = 0\n",
    "x = 0\n",
    "for i in onshore_df['gendercode']:\n",
    "    if i == 'F':\n",
    "        f += 1\n",
    "    elif i == \"M\":\n",
    "        m += 1\n",
    "    elif i == \"X\":\n",
    "        x += 1\n",
    "\n",
    "print(f)\n",
    "print(m)\n",
    "print(x)"
   ]
  },
  {
   "cell_type": "markdown",
   "metadata": {},
   "source": [
    "### 1. 客戶的地區分佈"
   ]
  },
  {
   "cell_type": "code",
   "execution_count": 28,
   "metadata": {},
   "outputs": [
    {
     "data": {
      "text/plain": [
       "[['M', 'NORTH'],\n",
       " ['M', 'NORTH'],\n",
       " ['F', 'SOUTH'],\n",
       " ['F', 'NORTH'],\n",
       " ['F', 'NORTH']]"
      ]
     },
     "execution_count": 28,
     "metadata": {},
     "output_type": "execute_result"
    }
   ],
   "source": [
    "#將都市分入北、中、南、東四區\n",
    "def which_area(city):\n",
    "    city = city[:3]\n",
    "    city_group = {'NORTH': [\"台北市\", \"新北市\", \"基隆市\", \"新竹市\", \"桃園市\", \"新竹縣\"], 'CENTER': [\"台中市\", \"苗栗縣\", \"彰化縣\", \"南投縣\", \"雲林縣\"],\n",
    "                  'SOUTH': [\"高雄市\", \"台南市\", \"嘉義市\", \"嘉義縣\", \"屏東縣\", \"澎湖縣\"], 'EAST': [\"宜蘭縣\", \"花蓮縣\", \"台東縣\"]}\n",
    "\n",
    "    for area in city_group:\n",
    "        if city in city_group[area]:\n",
    "            return area\n",
    "\n",
    "        \n",
    "#觀察客戶性別與居住地      \n",
    "client_gen_area = []\n",
    "\n",
    "for i in range(100):\n",
    "    gen = onshore_df['gendercode'][i]\n",
    "    area = which_area(onshore_df.address1_line1[i])\n",
    "    #企業不計入\n",
    "    if gen == 'X':\n",
    "        continue\n",
    "    client_set = [gen, area]\n",
    "    client_gen_area.append(client_set)\n",
    "\n",
    "#list內容示意\n",
    "client_gen_area[:5]"
   ]
  },
  {
   "cell_type": "code",
   "execution_count": 27,
   "metadata": {},
   "outputs": [
    {
     "data": {
      "image/png": "[encoded data removed]",
      "text/plain": [
       "<Figure size 432x288 with 1 Axes>"
      ]
     },
     "metadata": {
      "needs_background": "light"
     },
     "output_type": "display_data"
    },
    {
     "name": "stdout",
     "output_type": "stream",
     "text": [
      "各區男性投保人數： [22, 7, 10, 0]\n",
      "各區女性投保人數： [33, 9, 11, 1]\n"
     ]
    }
   ],
   "source": [
    "#計算每個地區的男女人數\n",
    "area = ['NORTH', 'CENTER', 'SOUTH', 'EAST']\n",
    "m_num = [0, 0, 0, 0]\n",
    "f_num = [0, 0, 0, 0]\n",
    "\n",
    "for clients in client_gen_area:\n",
    "    try:\n",
    "        i = area.index(clients[1])\n",
    "        if clients[0] == 'M':\n",
    "            m_num[i] += 1\n",
    "        elif clients[0] == 'F':\n",
    "            f_num[i] += 1\n",
    "    except ValueError:\n",
    "        continue\n",
    "\n",
    "# 畫長條圖\n",
    "plt.bar(area, m_num, label='Male', align='edge', width=0.3)\n",
    "plt.bar(area, f_num, label='Female', align='edge', width=-0.3)\n",
    "plt.legend()   #顯示label\n",
    "\n",
    "plt.title('Onshore Clients Distribution')\n",
    "plt.xlabel(\"Area\")\n",
    "plt.ylabel(\"Total Numbers of People\")\n",
    "\n",
    "plt.show()\n",
    "print('各區男性投保人數：', m_num)\n",
    "print('各區女性投保人數：', f_num)"
   ]
  },
  {
   "cell_type": "markdown",
   "metadata": {},
   "source": [
    "保險人口主要集中北部，女生投保人數稍多於男生"
   ]
  },
  {
   "cell_type": "markdown",
   "metadata": {},
   "source": [
    "### 2. 想了解年齡對投保是否有影響"
   ]
  },
  {
   "cell_type": "code",
   "execution_count": 5,
   "metadata": {},
   "outputs": [
    {
     "data": {
      "text/plain": [
       "<matplotlib.collections.PathCollection at 0x11b413278>"
      ]
     },
     "execution_count": 5,
     "metadata": {},
     "output_type": "execute_result"
    },
    {
     "data": {
      "image/png": "[encoded data removed]",
      "text/plain": [
       "<Figure size 432x288 with 1 Axes>"
      ]
     },
     "metadata": {
      "needs_background": "light"
     },
     "output_type": "display_data"
    }
   ],
   "source": [
    "onshore_df['age'] = pd.to_datetime(onshore_df['birthdate'].astype(str), format = '%Y/%m/%d').apply(lambda x:datetime.datetime.today().year - x.year)\n",
    "#print(type(onshore_df['age'][0]))\n",
    "\n",
    "ages = dict()\n",
    "for a in onshore_df['age']:\n",
    "    age = a\n",
    "    if age not in ages:\n",
    "        ages[age] = 1\n",
    "    else:\n",
    "        ages[age] += 1\n",
    "\n",
    "ages_sort = sorted(ages.items(), key=lambda a:a[0])\n",
    "#print(ages_sort)  #dict：{'年齡'：人數}\n",
    "#print(ages.keys())\n",
    "\n",
    "x = [i[0] for i in ages_sort]\n",
    "y = [j[1] for j in ages_sort]\n",
    "plt.xlabel('Age')\n",
    "plt.ylabel('Numbers of people')\n",
    "plt.scatter(x, y)"
   ]
  },
  {
   "cell_type": "markdown",
   "metadata": {},
   "source": [
    "可大約看出20-60歲的投保人數較高，人數最多的投保年齡約落在50歲。其他無明顯特徵。"
   ]
  },
  {
   "cell_type": "markdown",
   "metadata": {},
   "source": [
    "### 3. 風險程度與保險人性別間的關係"
   ]
  },
  {
   "cell_type": "code",
   "execution_count": 30,
   "metadata": {},
   "outputs": [
    {
     "name": "stdout",
     "output_type": "stream",
     "text": [
      "{'5.0': [35, 45, 6], '4.0': [2, 7, 0], '2.0': [1, 2, 0]}\n"
     ]
    },
    {
     "data": {
      "image/png": "[encoded data removed]",
      "text/plain": [
       "<Figure size 432x288 with 1 Axes>"
      ]
     },
     "metadata": {
      "needs_background": "light"
     },
     "output_type": "display_data"
    }
   ],
   "source": [
    "client_gen_risk = dict()\n",
    "\n",
    "for i in range(100):\n",
    "    gen = onshore_df['gendercode'][i]\n",
    "    risk = str(onshore_df['assessmentrisk'][i])\n",
    "    if risk != 'nan':\n",
    "        if risk not in client_gen_risk:\n",
    "            if gen == 'M':\n",
    "                client_gen_risk[risk] = [1, 0, 0]\n",
    "            elif gen == 'F':\n",
    "                client_gen_risk[risk] = [0, 1, 0]\n",
    "            elif gen == 'X':\n",
    "                client_gen_risk[risk] = [0, 0, 1]\n",
    "\n",
    "        else:\n",
    "            if gen == 'M':\n",
    "                 client_gen_risk[risk][0] += 1\n",
    "            elif gen == 'F':\n",
    "                 client_gen_risk[risk][1] += 1\n",
    "            elif gen == 'X':\n",
    "                 client_gen_risk[risk][2] += 1\n",
    "\n",
    "print(client_gen_risk)   #{'risk':[M, F, Firm]}\n",
    "\n",
    "\n",
    "risk_level = [float(i) for i in client_gen_risk.keys()]    #names\n",
    "m_risk = [j[0] for j in client_gen_risk.values()]   #bars1\n",
    "f_risk = [j[1] for j in client_gen_risk.values()]   #bars2\n",
    "firm_risk = [j[2] for j in client_gen_risk.values()]   #bars3\n",
    "\n",
    "\n",
    "#男女risk人數的和（height）\n",
    "m_f_risk = np.add(m_risk, f_risk).tolist()\n",
    "\n",
    "\n",
    "plt.bar(risk_level, m_risk, label='Male', edgecolor='white', width=0.5)\n",
    "plt.bar(risk_level, f_risk, label='Female', bottom=m_risk, edgecolor='white', width=0.5)\n",
    "plt.bar(risk_level, firm_risk, label='Firm', bottom=m_f_risk, color='#557f2d', edgecolor='white', width=0.5)\n",
    "\n",
    "\n",
    "plt.legend()\n",
    "plt.show()"
   ]
  },
  {
   "cell_type": "markdown",
   "metadata": {},
   "source": [
    "透過長條堆積圖，可以觀察到客戶群大多風險程度為5。其中，企業投保人風險程度皆偏高。"
   ]
  }
 ],
 "metadata": {
  "kernelspec": {
   "display_name": "Python 3",
   "language": "python",
   "name": "python3"
  },
  "language_info": {
   "codemirror_mode": {
    "name": "ipython",
    "version": 3
   },
   "file_extension": ".py",
   "mimetype": "text/x-python",
   "name": "python",
   "nbconvert_exporter": "python",
   "pygments_lexer": "ipython3",
   "version": "3.7.1"
  }
 },
 "nbformat": 4,
 "nbformat_minor": 2
}
