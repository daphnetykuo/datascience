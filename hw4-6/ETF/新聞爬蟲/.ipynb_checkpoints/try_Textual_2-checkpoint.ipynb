{
 "cells": [
  {
   "cell_type": "code",
   "execution_count": 1,
   "metadata": {},
   "outputs": [
    {
     "name": "stdout",
     "output_type": "stream",
     "text": [
      "Collecting jieba\n",
      "  Using cached https://files.pythonhosted.org/packages/71/46/c6f9179f73b818d5827202ad1c4a94e371a29473b7f043b736b4dab6b8cd/jieba-0.39.zip\n",
      "Building wheels for collected packages: jieba\n",
      "  Running setup.py bdist_wheel for jieba ... \u001b[?25ldone\n",
      "\u001b[?25h  Stored in directory: /Users/daphne/Library/Caches/pip/wheels/c9/c7/63/a9ec0322ccc7c365fd51e475942a82395807186e94f0522243\n",
      "Successfully built jieba\n",
      "Installing collected packages: jieba\n",
      "Successfully installed jieba-0.39\n",
      "Collecting word2vec\n",
      "\u001b[?25l  Downloading https://files.pythonhosted.org/packages/ce/51/5e2782b204015c8aef0ac830297c2f2735143ec90f592b9b3b909bb89757/word2vec-0.10.2.tar.gz (60kB)\n",
      "\u001b[K    100% |████████████████████████████████| 61kB 938kB/s ta 0:00:01\n",
      "\u001b[?25hRequirement already satisfied: six in /Users/daphne/anaconda3/lib/python3.7/site-packages (from word2vec) (1.12.0)\n",
      "Requirement already satisfied: cython in /Users/daphne/anaconda3/lib/python3.7/site-packages (from word2vec) (0.29.2)\n",
      "Requirement already satisfied: numpy>=1.9.2 in /Users/daphne/anaconda3/lib/python3.7/site-packages (from word2vec) (1.15.4)\n",
      "Requirement already satisfied: scipy in /Users/daphne/anaconda3/lib/python3.7/site-packages (from word2vec) (1.1.0)\n",
      "Requirement already satisfied: scikit-learn in /Users/daphne/anaconda3/lib/python3.7/site-packages (from word2vec) (0.20.1)\n",
      "Building wheels for collected packages: word2vec\n",
      "  Running setup.py bdist_wheel for word2vec ... \u001b[?25lerror\n",
      "  Complete output from command /Users/daphne/anaconda3/bin/python -u -c \"import setuptools, tokenize;__file__='/private/var/folders/f9/ccw20sr17yvf1vcw24mfryv80000gn/T/pip-install-94haf8qa/word2vec/setup.py';f=getattr(tokenize, 'open', open)(__file__);code=f.read().replace('\\r\\n', '\\n');f.close();exec(compile(code, __file__, 'exec'))\" bdist_wheel -d /private/var/folders/f9/ccw20sr17yvf1vcw24mfryv80000gn/T/pip-wheel-joka_2b7 --python-tag cp37:\n",
      "  running bdist_wheel\n",
      "  running build\n",
      "  running build_py\n",
      "  creating build\n",
      "  creating build/lib.macosx-10.7-x86_64-3.7\n",
      "  creating build/lib.macosx-10.7-x86_64-3.7/word2vec\n",
      "  copying word2vec/_version.py -> build/lib.macosx-10.7-x86_64-3.7/word2vec\n",
      "  copying word2vec/io.py -> build/lib.macosx-10.7-x86_64-3.7/word2vec\n",
      "  copying word2vec/__init__.py -> build/lib.macosx-10.7-x86_64-3.7/word2vec\n",
      "  copying word2vec/wordclusters.py -> build/lib.macosx-10.7-x86_64-3.7/word2vec\n",
      "  copying word2vec/utils.py -> build/lib.macosx-10.7-x86_64-3.7/word2vec\n",
      "  copying word2vec/wordvectors.py -> build/lib.macosx-10.7-x86_64-3.7/word2vec\n",
      "  copying word2vec/scripts_interface.py -> build/lib.macosx-10.7-x86_64-3.7/word2vec\n",
      "  creating build/lib.macosx-10.7-x86_64-3.7/word2vec/tests\n",
      "  copying word2vec/tests/test_word2vec.py -> build/lib.macosx-10.7-x86_64-3.7/word2vec/tests\n",
      "  copying word2vec/tests/__init__.py -> build/lib.macosx-10.7-x86_64-3.7/word2vec/tests\n",
      "  UPDATING build/lib.macosx-10.7-x86_64-3.7/word2vec/_version.py\n",
      "  set build/lib.macosx-10.7-x86_64-3.7/word2vec/_version.py to '0.10.2'\n",
      "  running build_ext\n",
      "  building 'word2vec.word2vec_noop' extension\n",
      "  creating build/temp.macosx-10.7-x86_64-3.7\n",
      "  creating build/temp.macosx-10.7-x86_64-3.7/word2vec\n",
      "  gcc -Wno-unused-result -Wsign-compare -Wunreachable-code -DNDEBUG -g -fwrapv -O3 -Wall -Wstrict-prototypes -I/Users/daphne/anaconda3/include -arch x86_64 -I/Users/daphne/anaconda3/include -arch x86_64 -I/Users/daphne/anaconda3/include/python3.7m -c word2vec/word2vec_noop.c -o build/temp.macosx-10.7-x86_64-3.7/word2vec/word2vec_noop.o\n",
      "  xcrun: error: invalid active developer path (/Library/Developer/CommandLineTools), missing xcrun at: /Library/Developer/CommandLineTools/usr/bin/xcrun\n",
      "  error: command 'gcc' failed with exit status 1\n",
      "  \n",
      "  ----------------------------------------\n",
      "\u001b[31m  Failed building wheel for word2vec\u001b[0m\n",
      "\u001b[?25h  Running setup.py clean for word2vec\n",
      "Failed to build word2vec\n",
      "Installing collected packages: word2vec\n",
      "  Running setup.py install for word2vec ... \u001b[?25lerror\n",
      "    Complete output from command /Users/daphne/anaconda3/bin/python -u -c \"import setuptools, tokenize;__file__='/private/var/folders/f9/ccw20sr17yvf1vcw24mfryv80000gn/T/pip-install-94haf8qa/word2vec/setup.py';f=getattr(tokenize, 'open', open)(__file__);code=f.read().replace('\\r\\n', '\\n');f.close();exec(compile(code, __file__, 'exec'))\" install --record /private/var/folders/f9/ccw20sr17yvf1vcw24mfryv80000gn/T/pip-record-f8tdl4af/install-record.txt --single-version-externally-managed --compile:\n",
      "    running install\n",
      "    Compilation command: gcc /private/var/folders/f9/ccw20sr17yvf1vcw24mfryv80000gn/T/pip-install-94haf8qa/word2vec/word2vec/src/word2vec.c -o bin/word2vec -lm -pthread -O3 -Wall -march=native -funroll-loops -Wno-unused-result -I/usr/include/malloc\n",
      "    xcrun: error: invalid active developer path (/Library/Developer/CommandLineTools), missing xcrun at: /Library/Developer/CommandLineTools/usr/bin/xcrun\n",
      "    \n",
      "    ----------------------------------------\n",
      "\u001b[31mCommand \"/Users/daphne/anaconda3/bin/python -u -c \"import setuptools, tokenize;__file__='/private/var/folders/f9/ccw20sr17yvf1vcw24mfryv80000gn/T/pip-install-94haf8qa/word2vec/setup.py';f=getattr(tokenize, 'open', open)(__file__);code=f.read().replace('\\r\\n', '\\n');f.close();exec(compile(code, __file__, 'exec'))\" install --record /private/var/folders/f9/ccw20sr17yvf1vcw24mfryv80000gn/T/pip-record-f8tdl4af/install-record.txt --single-version-externally-managed --compile\" failed with error code 1 in /private/var/folders/f9/ccw20sr17yvf1vcw24mfryv80000gn/T/pip-install-94haf8qa/word2vec/\u001b[0m\n",
      "\u001b[?25hCollecting sklearn\n",
      "  Downloading https://files.pythonhosted.org/packages/1e/7a/dbb3be0ce9bd5c8b7e3d87328e79063f8b263b2b1bfa4774cb1147bfcd3f/sklearn-0.0.tar.gz\n",
      "Requirement already satisfied: scikit-learn in /Users/daphne/anaconda3/lib/python3.7/site-packages (from sklearn) (0.20.1)\n",
      "Requirement already satisfied: numpy>=1.8.2 in /Users/daphne/anaconda3/lib/python3.7/site-packages (from scikit-learn->sklearn) (1.15.4)\n",
      "Requirement already satisfied: scipy>=0.13.3 in /Users/daphne/anaconda3/lib/python3.7/site-packages (from scikit-learn->sklearn) (1.1.0)\n",
      "Building wheels for collected packages: sklearn\n",
      "  Running setup.py bdist_wheel for sklearn ... \u001b[?25ldone\n",
      "\u001b[?25h  Stored in directory: /Users/daphne/Library/Caches/pip/wheels/76/03/bb/589d421d27431bcd2c6da284d5f2286c8e3b2ea3cf1594c074\n",
      "Successfully built sklearn\n",
      "Installing collected packages: sklearn\n",
      "Successfully installed sklearn-0.0\n"
     ]
    }
   ],
   "source": [
    "#!pip install jieba\n",
    "#!pip install word2vec\n",
    "#!pip install sklearn"
   ]
  },
  {
   "cell_type": "code",
   "execution_count": 3,
   "metadata": {},
   "outputs": [
    {
     "ename": "ModuleNotFoundError",
     "evalue": "No module named 'word2vec'",
     "output_type": "error",
     "traceback": [
      "\u001b[0;31m---------------------------------------------------------------------------\u001b[0m",
      "\u001b[0;31mModuleNotFoundError\u001b[0m                       Traceback (most recent call last)",
      "\u001b[0;32m<ipython-input-3-56cdd976394c>\u001b[0m in \u001b[0;36m<module>\u001b[0;34m\u001b[0m\n\u001b[1;32m      7\u001b[0m \u001b[0;32mimport\u001b[0m \u001b[0mpandas\u001b[0m \u001b[0;32mas\u001b[0m \u001b[0mpd\u001b[0m\u001b[0;34m\u001b[0m\u001b[0;34m\u001b[0m\u001b[0m\n\u001b[1;32m      8\u001b[0m \u001b[0;32mimport\u001b[0m \u001b[0mjieba\u001b[0m\u001b[0;34m\u001b[0m\u001b[0;34m\u001b[0m\u001b[0m\n\u001b[0;32m----> 9\u001b[0;31m \u001b[0;32mimport\u001b[0m \u001b[0mword2vec\u001b[0m\u001b[0;34m\u001b[0m\u001b[0;34m\u001b[0m\u001b[0m\n\u001b[0m\u001b[1;32m     10\u001b[0m \u001b[0;32mimport\u001b[0m \u001b[0msklearn\u001b[0m\u001b[0;34m\u001b[0m\u001b[0;34m\u001b[0m\u001b[0m\n\u001b[1;32m     11\u001b[0m \u001b[0;32mimport\u001b[0m \u001b[0mmatplotlib\u001b[0m\u001b[0;34m.\u001b[0m\u001b[0mpyplot\u001b[0m \u001b[0;32mas\u001b[0m \u001b[0mplt\u001b[0m\u001b[0;34m\u001b[0m\u001b[0;34m\u001b[0m\u001b[0m\n",
      "\u001b[0;31mModuleNotFoundError\u001b[0m: No module named 'word2vec'"
     ]
    }
   ],
   "source": [
    "import pickle\n",
    "import re\n",
    "import time\n",
    "import io\n",
    "import os\n",
    "import json\n",
    "import pandas as pd\n",
    "import jieba\n",
    "import word2vec\n",
    "import sklearn\n",
    "import matplotlib.pyplot as plt\n",
    "from optparse import OptionParser\n",
    "from pandas import DataFrame, read_csv"
   ]
  },
  {
   "cell_type": "code",
   "execution_count": null,
   "metadata": {},
   "outputs": [],
   "source": [
    "with open('bbc_trump', 'rb') as file:\n",
    "    news = pickle.load(file)\n",
    "\n",
    "print(news)"
   ]
  }
 ],
 "metadata": {
  "kernelspec": {
   "display_name": "Python 3",
   "language": "python",
   "name": "python3"
  },
  "language_info": {
   "codemirror_mode": {
    "name": "ipython",
    "version": 3
   },
   "file_extension": ".py",
   "mimetype": "text/x-python",
   "name": "python",
   "nbconvert_exporter": "python",
   "pygments_lexer": "ipython3",
   "version": "3.7.1"
  }
 },
 "nbformat": 4,
 "nbformat_minor": 2
}
