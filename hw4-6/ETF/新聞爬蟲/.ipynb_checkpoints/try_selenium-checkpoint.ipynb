{
 "cells": [
  {
   "cell_type": "code",
   "execution_count": null,
   "metadata": {},
   "outputs": [],
   "source": [
    "from selenium import webdriver\n",
    "\n",
    "#打開Chrome瀏覽器\n",
    "driver = webdriver.Chrome()\n",
    "\n",
    "driver.get(\"https://www.nytimes.com/search?query=trump\")\n",
    "driver.find_element_by_tag()"
   ]
  },
  {
   "cell_type": "code",
   "execution_count": null,
   "metadata": {},
   "outputs": [],
   "source": [
    "'''#不打開瀏覽器視窗版本\n",
    "from selenium.webdriver.chrome.options import Options\n",
    "\n",
    "chrome_options = Options()\n",
    "#define headless\n",
    "chrome_options.add_argument(\"--headless\")\n",
    "\n",
    "driver = wibdriver.Chrome(chrome_options=chrome_options)'''"
   ]
  }
 ],
 "metadata": {
  "kernelspec": {
   "display_name": "Python 3",
   "language": "python",
   "name": "python3"
  },
  "language_info": {
   "codemirror_mode": {
    "name": "ipython",
    "version": 3
   },
   "file_extension": ".py",
   "mimetype": "text/x-python",
   "name": "python",
   "nbconvert_exporter": "python",
   "pygments_lexer": "ipython3",
   "version": "3.7.1"
  }
 },
 "nbformat": 4,
 "nbformat_minor": 2
}
